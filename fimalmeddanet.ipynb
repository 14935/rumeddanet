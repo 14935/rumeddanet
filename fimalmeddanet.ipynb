{
  "metadata": {
    "colab": {
      "provenance": [],
      "gpuType": "T4"
    },
    "kernelspec": {
      "name": "python3",
      "display_name": "Python 3",
      "language": "python"
    },
    "language_info": {
      "name": "python",
      "version": "3.10.13",
      "mimetype": "text/x-python",
      "codemirror_mode": {
        "name": "ipython",
        "version": 3
      },
      "pygments_lexer": "ipython3",
      "nbconvert_exporter": "python",
      "file_extension": ".py"
    },
    "widgets": {
      "application/vnd.jupyter.widget-state+json": {
        "ed58776e7a0746a4bfa7aaac2b640aeb": {
          "model_module": "@jupyter-widgets/controls",
          "model_name": "HBoxModel",
          "model_module_version": "1.5.0",
          "state": {
            "_dom_classes": [],
            "_model_module": "@jupyter-widgets/controls",
            "_model_module_version": "1.5.0",
            "_model_name": "HBoxModel",
            "_view_count": null,
            "_view_module": "@jupyter-widgets/controls",
            "_view_module_version": "1.5.0",
            "_view_name": "HBoxView",
            "box_style": "",
            "children": [
              "IPY_MODEL_3965d3770497430b9fcaf713dada7b3a",
              "IPY_MODEL_ad88439212b24fed9aa0186cdf449b52",
              "IPY_MODEL_82e46bb8450d4ab5aa92fc96105b2fe0"
            ],
            "layout": "IPY_MODEL_16a27d93c07a45a28604a59267252691"
          }
        },
        "3965d3770497430b9fcaf713dada7b3a": {
          "model_module": "@jupyter-widgets/controls",
          "model_name": "HTMLModel",
          "model_module_version": "1.5.0",
          "state": {
            "_dom_classes": [],
            "_model_module": "@jupyter-widgets/controls",
            "_model_module_version": "1.5.0",
            "_model_name": "HTMLModel",
            "_view_count": null,
            "_view_module": "@jupyter-widgets/controls",
            "_view_module_version": "1.5.0",
            "_view_name": "HTMLView",
            "description": "",
            "description_tooltip": null,
            "layout": "IPY_MODEL_94774c2460984a5f8883fb2f58379171",
            "placeholder": "​",
            "style": "IPY_MODEL_2fafd00b3738463789a207f72480bf5c",
            "value": "Map: 100%"
          }
        },
        "ad88439212b24fed9aa0186cdf449b52": {
          "model_module": "@jupyter-widgets/controls",
          "model_name": "FloatProgressModel",
          "model_module_version": "1.5.0",
          "state": {
            "_dom_classes": [],
            "_model_module": "@jupyter-widgets/controls",
            "_model_module_version": "1.5.0",
            "_model_name": "FloatProgressModel",
            "_view_count": null,
            "_view_module": "@jupyter-widgets/controls",
            "_view_module_version": "1.5.0",
            "_view_name": "ProgressView",
            "bar_style": "success",
            "description": "",
            "description_tooltip": null,
            "layout": "IPY_MODEL_32a40797372d46f4bbbb212da283a7c8",
            "max": 1308,
            "min": 0,
            "orientation": "horizontal",
            "style": "IPY_MODEL_2cb940f32e7c413f8267f0f0f02d717a",
            "value": 1308
          }
        },
        "82e46bb8450d4ab5aa92fc96105b2fe0": {
          "model_module": "@jupyter-widgets/controls",
          "model_name": "HTMLModel",
          "model_module_version": "1.5.0",
          "state": {
            "_dom_classes": [],
            "_model_module": "@jupyter-widgets/controls",
            "_model_module_version": "1.5.0",
            "_model_name": "HTMLModel",
            "_view_count": null,
            "_view_module": "@jupyter-widgets/controls",
            "_view_module_version": "1.5.0",
            "_view_name": "HTMLView",
            "description": "",
            "description_tooltip": null,
            "layout": "IPY_MODEL_95e70e069bb44480a84e4955235926e5",
            "placeholder": "​",
            "style": "IPY_MODEL_c925cc2fc5134b618d411c0a646ae8f4",
            "value": " 1308/1308 [00:01&lt;00:00, 1090.79 examples/s]"
          }
        },
        "16a27d93c07a45a28604a59267252691": {
          "model_module": "@jupyter-widgets/base",
          "model_name": "LayoutModel",
          "model_module_version": "1.2.0",
          "state": {
            "_model_module": "@jupyter-widgets/base",
            "_model_module_version": "1.2.0",
            "_model_name": "LayoutModel",
            "_view_count": null,
            "_view_module": "@jupyter-widgets/base",
            "_view_module_version": "1.2.0",
            "_view_name": "LayoutView",
            "align_content": null,
            "align_items": null,
            "align_self": null,
            "border": null,
            "bottom": null,
            "display": null,
            "flex": null,
            "flex_flow": null,
            "grid_area": null,
            "grid_auto_columns": null,
            "grid_auto_flow": null,
            "grid_auto_rows": null,
            "grid_column": null,
            "grid_gap": null,
            "grid_row": null,
            "grid_template_areas": null,
            "grid_template_columns": null,
            "grid_template_rows": null,
            "height": null,
            "justify_content": null,
            "justify_items": null,
            "left": null,
            "margin": null,
            "max_height": null,
            "max_width": null,
            "min_height": null,
            "min_width": null,
            "object_fit": null,
            "object_position": null,
            "order": null,
            "overflow": null,
            "overflow_x": null,
            "overflow_y": null,
            "padding": null,
            "right": null,
            "top": null,
            "visibility": null,
            "width": null
          }
        },
        "94774c2460984a5f8883fb2f58379171": {
          "model_module": "@jupyter-widgets/base",
          "model_name": "LayoutModel",
          "model_module_version": "1.2.0",
          "state": {
            "_model_module": "@jupyter-widgets/base",
            "_model_module_version": "1.2.0",
            "_model_name": "LayoutModel",
            "_view_count": null,
            "_view_module": "@jupyter-widgets/base",
            "_view_module_version": "1.2.0",
            "_view_name": "LayoutView",
            "align_content": null,
            "align_items": null,
            "align_self": null,
            "border": null,
            "bottom": null,
            "display": null,
            "flex": null,
            "flex_flow": null,
            "grid_area": null,
            "grid_auto_columns": null,
            "grid_auto_flow": null,
            "grid_auto_rows": null,
            "grid_column": null,
            "grid_gap": null,
            "grid_row": null,
            "grid_template_areas": null,
            "grid_template_columns": null,
            "grid_template_rows": null,
            "height": null,
            "justify_content": null,
            "justify_items": null,
            "left": null,
            "margin": null,
            "max_height": null,
            "max_width": null,
            "min_height": null,
            "min_width": null,
            "object_fit": null,
            "object_position": null,
            "order": null,
            "overflow": null,
            "overflow_x": null,
            "overflow_y": null,
            "padding": null,
            "right": null,
            "top": null,
            "visibility": null,
            "width": null
          }
        },
        "2fafd00b3738463789a207f72480bf5c": {
          "model_module": "@jupyter-widgets/controls",
          "model_name": "DescriptionStyleModel",
          "model_module_version": "1.5.0",
          "state": {
            "_model_module": "@jupyter-widgets/controls",
            "_model_module_version": "1.5.0",
            "_model_name": "DescriptionStyleModel",
            "_view_count": null,
            "_view_module": "@jupyter-widgets/base",
            "_view_module_version": "1.2.0",
            "_view_name": "StyleView",
            "description_width": ""
          }
        },
        "32a40797372d46f4bbbb212da283a7c8": {
          "model_module": "@jupyter-widgets/base",
          "model_name": "LayoutModel",
          "model_module_version": "1.2.0",
          "state": {
            "_model_module": "@jupyter-widgets/base",
            "_model_module_version": "1.2.0",
            "_model_name": "LayoutModel",
            "_view_count": null,
            "_view_module": "@jupyter-widgets/base",
            "_view_module_version": "1.2.0",
            "_view_name": "LayoutView",
            "align_content": null,
            "align_items": null,
            "align_self": null,
            "border": null,
            "bottom": null,
            "display": null,
            "flex": null,
            "flex_flow": null,
            "grid_area": null,
            "grid_auto_columns": null,
            "grid_auto_flow": null,
            "grid_auto_rows": null,
            "grid_column": null,
            "grid_gap": null,
            "grid_row": null,
            "grid_template_areas": null,
            "grid_template_columns": null,
            "grid_template_rows": null,
            "height": null,
            "justify_content": null,
            "justify_items": null,
            "left": null,
            "margin": null,
            "max_height": null,
            "max_width": null,
            "min_height": null,
            "min_width": null,
            "object_fit": null,
            "object_position": null,
            "order": null,
            "overflow": null,
            "overflow_x": null,
            "overflow_y": null,
            "padding": null,
            "right": null,
            "top": null,
            "visibility": null,
            "width": null
          }
        },
        "2cb940f32e7c413f8267f0f0f02d717a": {
          "model_module": "@jupyter-widgets/controls",
          "model_name": "ProgressStyleModel",
          "model_module_version": "1.5.0",
          "state": {
            "_model_module": "@jupyter-widgets/controls",
            "_model_module_version": "1.5.0",
            "_model_name": "ProgressStyleModel",
            "_view_count": null,
            "_view_module": "@jupyter-widgets/base",
            "_view_module_version": "1.2.0",
            "_view_name": "StyleView",
            "bar_color": null,
            "description_width": ""
          }
        },
        "95e70e069bb44480a84e4955235926e5": {
          "model_module": "@jupyter-widgets/base",
          "model_name": "LayoutModel",
          "model_module_version": "1.2.0",
          "state": {
            "_model_module": "@jupyter-widgets/base",
            "_model_module_version": "1.2.0",
            "_model_name": "LayoutModel",
            "_view_count": null,
            "_view_module": "@jupyter-widgets/base",
            "_view_module_version": "1.2.0",
            "_view_name": "LayoutView",
            "align_content": null,
            "align_items": null,
            "align_self": null,
            "border": null,
            "bottom": null,
            "display": null,
            "flex": null,
            "flex_flow": null,
            "grid_area": null,
            "grid_auto_columns": null,
            "grid_auto_flow": null,
            "grid_auto_rows": null,
            "grid_column": null,
            "grid_gap": null,
            "grid_row": null,
            "grid_template_areas": null,
            "grid_template_columns": null,
            "grid_template_rows": null,
            "height": null,
            "justify_content": null,
            "justify_items": null,
            "left": null,
            "margin": null,
            "max_height": null,
            "max_width": null,
            "min_height": null,
            "min_width": null,
            "object_fit": null,
            "object_position": null,
            "order": null,
            "overflow": null,
            "overflow_x": null,
            "overflow_y": null,
            "padding": null,
            "right": null,
            "top": null,
            "visibility": null,
            "width": null
          }
        },
        "c925cc2fc5134b618d411c0a646ae8f4": {
          "model_module": "@jupyter-widgets/controls",
          "model_name": "DescriptionStyleModel",
          "model_module_version": "1.5.0",
          "state": {
            "_model_module": "@jupyter-widgets/controls",
            "_model_module_version": "1.5.0",
            "_model_name": "DescriptionStyleModel",
            "_view_count": null,
            "_view_module": "@jupyter-widgets/base",
            "_view_module_version": "1.2.0",
            "_view_name": "StyleView",
            "description_width": ""
          }
        },
        "3a57287bb2a04b85b7cad58a7874bd84": {
          "model_module": "@jupyter-widgets/controls",
          "model_name": "HBoxModel",
          "model_module_version": "1.5.0",
          "state": {
            "_dom_classes": [],
            "_model_module": "@jupyter-widgets/controls",
            "_model_module_version": "1.5.0",
            "_model_name": "HBoxModel",
            "_view_count": null,
            "_view_module": "@jupyter-widgets/controls",
            "_view_module_version": "1.5.0",
            "_view_name": "HBoxView",
            "box_style": "",
            "children": [
              "IPY_MODEL_39864a14b4194d4db4c5bb9baded5429",
              "IPY_MODEL_973ad4706bd14fb28e43a38a6f585c82",
              "IPY_MODEL_6d5bcf0e8da944e1a4116d5266ae4564"
            ],
            "layout": "IPY_MODEL_3e3a7ecbd8f44772a30e99539e59f53b"
          }
        },
        "39864a14b4194d4db4c5bb9baded5429": {
          "model_module": "@jupyter-widgets/controls",
          "model_name": "HTMLModel",
          "model_module_version": "1.5.0",
          "state": {
            "_dom_classes": [],
            "_model_module": "@jupyter-widgets/controls",
            "_model_module_version": "1.5.0",
            "_model_name": "HTMLModel",
            "_view_count": null,
            "_view_module": "@jupyter-widgets/controls",
            "_view_module_version": "1.5.0",
            "_view_name": "HTMLView",
            "description": "",
            "description_tooltip": null,
            "layout": "IPY_MODEL_fe5ee9c20f5d4aa5a5d085fe82982e37",
            "placeholder": "​",
            "style": "IPY_MODEL_13c133fe055840a4aa51473e6e44601f",
            "value": "Map: 100%"
          }
        },
        "973ad4706bd14fb28e43a38a6f585c82": {
          "model_module": "@jupyter-widgets/controls",
          "model_name": "FloatProgressModel",
          "model_module_version": "1.5.0",
          "state": {
            "_dom_classes": [],
            "_model_module": "@jupyter-widgets/controls",
            "_model_module_version": "1.5.0",
            "_model_name": "FloatProgressModel",
            "_view_count": null,
            "_view_module": "@jupyter-widgets/controls",
            "_view_module_version": "1.5.0",
            "_view_name": "ProgressView",
            "bar_style": "success",
            "description": "",
            "description_tooltip": null,
            "layout": "IPY_MODEL_181e5bed038a474abe72b84fa0676a9b",
            "max": 256,
            "min": 0,
            "orientation": "horizontal",
            "style": "IPY_MODEL_158b1119eb104a559a8fdbc5b51a3fee",
            "value": 256
          }
        },
        "6d5bcf0e8da944e1a4116d5266ae4564": {
          "model_module": "@jupyter-widgets/controls",
          "model_name": "HTMLModel",
          "model_module_version": "1.5.0",
          "state": {
            "_dom_classes": [],
            "_model_module": "@jupyter-widgets/controls",
            "_model_module_version": "1.5.0",
            "_model_name": "HTMLModel",
            "_view_count": null,
            "_view_module": "@jupyter-widgets/controls",
            "_view_module_version": "1.5.0",
            "_view_name": "HTMLView",
            "description": "",
            "description_tooltip": null,
            "layout": "IPY_MODEL_e4f3f3ab4a734fcab7e745f3423d7e94",
            "placeholder": "​",
            "style": "IPY_MODEL_ddbe37bd689a4b9ab5a12288cf6e0831",
            "value": " 256/256 [00:00&lt;00:00, 979.59 examples/s]"
          }
        },
        "3e3a7ecbd8f44772a30e99539e59f53b": {
          "model_module": "@jupyter-widgets/base",
          "model_name": "LayoutModel",
          "model_module_version": "1.2.0",
          "state": {
            "_model_module": "@jupyter-widgets/base",
            "_model_module_version": "1.2.0",
            "_model_name": "LayoutModel",
            "_view_count": null,
            "_view_module": "@jupyter-widgets/base",
            "_view_module_version": "1.2.0",
            "_view_name": "LayoutView",
            "align_content": null,
            "align_items": null,
            "align_self": null,
            "border": null,
            "bottom": null,
            "display": null,
            "flex": null,
            "flex_flow": null,
            "grid_area": null,
            "grid_auto_columns": null,
            "grid_auto_flow": null,
            "grid_auto_rows": null,
            "grid_column": null,
            "grid_gap": null,
            "grid_row": null,
            "grid_template_areas": null,
            "grid_template_columns": null,
            "grid_template_rows": null,
            "height": null,
            "justify_content": null,
            "justify_items": null,
            "left": null,
            "margin": null,
            "max_height": null,
            "max_width": null,
            "min_height": null,
            "min_width": null,
            "object_fit": null,
            "object_position": null,
            "order": null,
            "overflow": null,
            "overflow_x": null,
            "overflow_y": null,
            "padding": null,
            "right": null,
            "top": null,
            "visibility": null,
            "width": null
          }
        },
        "fe5ee9c20f5d4aa5a5d085fe82982e37": {
          "model_module": "@jupyter-widgets/base",
          "model_name": "LayoutModel",
          "model_module_version": "1.2.0",
          "state": {
            "_model_module": "@jupyter-widgets/base",
            "_model_module_version": "1.2.0",
            "_model_name": "LayoutModel",
            "_view_count": null,
            "_view_module": "@jupyter-widgets/base",
            "_view_module_version": "1.2.0",
            "_view_name": "LayoutView",
            "align_content": null,
            "align_items": null,
            "align_self": null,
            "border": null,
            "bottom": null,
            "display": null,
            "flex": null,
            "flex_flow": null,
            "grid_area": null,
            "grid_auto_columns": null,
            "grid_auto_flow": null,
            "grid_auto_rows": null,
            "grid_column": null,
            "grid_gap": null,
            "grid_row": null,
            "grid_template_areas": null,
            "grid_template_columns": null,
            "grid_template_rows": null,
            "height": null,
            "justify_content": null,
            "justify_items": null,
            "left": null,
            "margin": null,
            "max_height": null,
            "max_width": null,
            "min_height": null,
            "min_width": null,
            "object_fit": null,
            "object_position": null,
            "order": null,
            "overflow": null,
            "overflow_x": null,
            "overflow_y": null,
            "padding": null,
            "right": null,
            "top": null,
            "visibility": null,
            "width": null
          }
        },
        "13c133fe055840a4aa51473e6e44601f": {
          "model_module": "@jupyter-widgets/controls",
          "model_name": "DescriptionStyleModel",
          "model_module_version": "1.5.0",
          "state": {
            "_model_module": "@jupyter-widgets/controls",
            "_model_module_version": "1.5.0",
            "_model_name": "DescriptionStyleModel",
            "_view_count": null,
            "_view_module": "@jupyter-widgets/base",
            "_view_module_version": "1.2.0",
            "_view_name": "StyleView",
            "description_width": ""
          }
        },
        "181e5bed038a474abe72b84fa0676a9b": {
          "model_module": "@jupyter-widgets/base",
          "model_name": "LayoutModel",
          "model_module_version": "1.2.0",
          "state": {
            "_model_module": "@jupyter-widgets/base",
            "_model_module_version": "1.2.0",
            "_model_name": "LayoutModel",
            "_view_count": null,
            "_view_module": "@jupyter-widgets/base",
            "_view_module_version": "1.2.0",
            "_view_name": "LayoutView",
            "align_content": null,
            "align_items": null,
            "align_self": null,
            "border": null,
            "bottom": null,
            "display": null,
            "flex": null,
            "flex_flow": null,
            "grid_area": null,
            "grid_auto_columns": null,
            "grid_auto_flow": null,
            "grid_auto_rows": null,
            "grid_column": null,
            "grid_gap": null,
            "grid_row": null,
            "grid_template_areas": null,
            "grid_template_columns": null,
            "grid_template_rows": null,
            "height": null,
            "justify_content": null,
            "justify_items": null,
            "left": null,
            "margin": null,
            "max_height": null,
            "max_width": null,
            "min_height": null,
            "min_width": null,
            "object_fit": null,
            "object_position": null,
            "order": null,
            "overflow": null,
            "overflow_x": null,
            "overflow_y": null,
            "padding": null,
            "right": null,
            "top": null,
            "visibility": null,
            "width": null
          }
        },
        "158b1119eb104a559a8fdbc5b51a3fee": {
          "model_module": "@jupyter-widgets/controls",
          "model_name": "ProgressStyleModel",
          "model_module_version": "1.5.0",
          "state": {
            "_model_module": "@jupyter-widgets/controls",
            "_model_module_version": "1.5.0",
            "_model_name": "ProgressStyleModel",
            "_view_count": null,
            "_view_module": "@jupyter-widgets/base",
            "_view_module_version": "1.2.0",
            "_view_name": "StyleView",
            "bar_color": null,
            "description_width": ""
          }
        },
        "e4f3f3ab4a734fcab7e745f3423d7e94": {
          "model_module": "@jupyter-widgets/base",
          "model_name": "LayoutModel",
          "model_module_version": "1.2.0",
          "state": {
            "_model_module": "@jupyter-widgets/base",
            "_model_module_version": "1.2.0",
            "_model_name": "LayoutModel",
            "_view_count": null,
            "_view_module": "@jupyter-widgets/base",
            "_view_module_version": "1.2.0",
            "_view_name": "LayoutView",
            "align_content": null,
            "align_items": null,
            "align_self": null,
            "border": null,
            "bottom": null,
            "display": null,
            "flex": null,
            "flex_flow": null,
            "grid_area": null,
            "grid_auto_columns": null,
            "grid_auto_flow": null,
            "grid_auto_rows": null,
            "grid_column": null,
            "grid_gap": null,
            "grid_row": null,
            "grid_template_areas": null,
            "grid_template_columns": null,
            "grid_template_rows": null,
            "height": null,
            "justify_content": null,
            "justify_items": null,
            "left": null,
            "margin": null,
            "max_height": null,
            "max_width": null,
            "min_height": null,
            "min_width": null,
            "object_fit": null,
            "object_position": null,
            "order": null,
            "overflow": null,
            "overflow_x": null,
            "overflow_y": null,
            "padding": null,
            "right": null,
            "top": null,
            "visibility": null,
            "width": null
          }
        },
        "ddbe37bd689a4b9ab5a12288cf6e0831": {
          "model_module": "@jupyter-widgets/controls",
          "model_name": "DescriptionStyleModel",
          "model_module_version": "1.5.0",
          "state": {
            "_model_module": "@jupyter-widgets/controls",
            "_model_module_version": "1.5.0",
            "_model_name": "DescriptionStyleModel",
            "_view_count": null,
            "_view_module": "@jupyter-widgets/base",
            "_view_module_version": "1.2.0",
            "_view_name": "StyleView",
            "description_width": ""
          }
        },
        "938ec760df14402b941c28d0d25f83f2": {
          "model_module": "@jupyter-widgets/controls",
          "model_name": "HBoxModel",
          "model_module_version": "1.5.0",
          "state": {
            "_dom_classes": [],
            "_model_module": "@jupyter-widgets/controls",
            "_model_module_version": "1.5.0",
            "_model_name": "HBoxModel",
            "_view_count": null,
            "_view_module": "@jupyter-widgets/controls",
            "_view_module_version": "1.5.0",
            "_view_name": "HBoxView",
            "box_style": "",
            "children": [
              "IPY_MODEL_867c4c2f9e974d83a722a8eb8b9aaa44",
              "IPY_MODEL_d104866311cd47c498fab3f9be550f22",
              "IPY_MODEL_d3af7326fa9a478381e93c9f793b2c5c"
            ],
            "layout": "IPY_MODEL_f1eeb9e7bc3a4a6a81461b9cda2f4a95"
          }
        },
        "867c4c2f9e974d83a722a8eb8b9aaa44": {
          "model_module": "@jupyter-widgets/controls",
          "model_name": "HTMLModel",
          "model_module_version": "1.5.0",
          "state": {
            "_dom_classes": [],
            "_model_module": "@jupyter-widgets/controls",
            "_model_module_version": "1.5.0",
            "_model_name": "HTMLModel",
            "_view_count": null,
            "_view_module": "@jupyter-widgets/controls",
            "_view_module_version": "1.5.0",
            "_view_name": "HTMLView",
            "description": "",
            "description_tooltip": null,
            "layout": "IPY_MODEL_304d1fff133747e782e7cf52677abd46",
            "placeholder": "​",
            "style": "IPY_MODEL_29bb59549802403b9517a905fd0f3571",
            "value": "100%"
          }
        },
        "d104866311cd47c498fab3f9be550f22": {
          "model_module": "@jupyter-widgets/controls",
          "model_name": "FloatProgressModel",
          "model_module_version": "1.5.0",
          "state": {
            "_dom_classes": [],
            "_model_module": "@jupyter-widgets/controls",
            "_model_module_version": "1.5.0",
            "_model_name": "FloatProgressModel",
            "_view_count": null,
            "_view_module": "@jupyter-widgets/controls",
            "_view_module_version": "1.5.0",
            "_view_name": "ProgressView",
            "bar_style": "",
            "description": "",
            "description_tooltip": null,
            "layout": "IPY_MODEL_9fde0f05955443888421bcc395f9bcf2",
            "max": 981,
            "min": 0,
            "orientation": "horizontal",
            "style": "IPY_MODEL_a7e901d9d8b14ff8b1bd82fc28bb9a72",
            "value": 981
          }
        },
        "d3af7326fa9a478381e93c9f793b2c5c": {
          "model_module": "@jupyter-widgets/controls",
          "model_name": "HTMLModel",
          "model_module_version": "1.5.0",
          "state": {
            "_dom_classes": [],
            "_model_module": "@jupyter-widgets/controls",
            "_model_module_version": "1.5.0",
            "_model_name": "HTMLModel",
            "_view_count": null,
            "_view_module": "@jupyter-widgets/controls",
            "_view_module_version": "1.5.0",
            "_view_name": "HTMLView",
            "description": "",
            "description_tooltip": null,
            "layout": "IPY_MODEL_cae3a3c3a7cd4b9d93768a8f5281d1e8",
            "placeholder": "​",
            "style": "IPY_MODEL_1ff444ed8d144dc1ba8b172a4cf9e225",
            "value": " 981/981 [19:38&lt;00:00,  1.20s/it]"
          }
        },
        "f1eeb9e7bc3a4a6a81461b9cda2f4a95": {
          "model_module": "@jupyter-widgets/base",
          "model_name": "LayoutModel",
          "model_module_version": "1.2.0",
          "state": {
            "_model_module": "@jupyter-widgets/base",
            "_model_module_version": "1.2.0",
            "_model_name": "LayoutModel",
            "_view_count": null,
            "_view_module": "@jupyter-widgets/base",
            "_view_module_version": "1.2.0",
            "_view_name": "LayoutView",
            "align_content": null,
            "align_items": null,
            "align_self": null,
            "border": null,
            "bottom": null,
            "display": null,
            "flex": null,
            "flex_flow": null,
            "grid_area": null,
            "grid_auto_columns": null,
            "grid_auto_flow": null,
            "grid_auto_rows": null,
            "grid_column": null,
            "grid_gap": null,
            "grid_row": null,
            "grid_template_areas": null,
            "grid_template_columns": null,
            "grid_template_rows": null,
            "height": null,
            "justify_content": null,
            "justify_items": null,
            "left": null,
            "margin": null,
            "max_height": null,
            "max_width": null,
            "min_height": null,
            "min_width": null,
            "object_fit": null,
            "object_position": null,
            "order": null,
            "overflow": null,
            "overflow_x": null,
            "overflow_y": null,
            "padding": null,
            "right": null,
            "top": null,
            "visibility": null,
            "width": null
          }
        },
        "304d1fff133747e782e7cf52677abd46": {
          "model_module": "@jupyter-widgets/base",
          "model_name": "LayoutModel",
          "model_module_version": "1.2.0",
          "state": {
            "_model_module": "@jupyter-widgets/base",
            "_model_module_version": "1.2.0",
            "_model_name": "LayoutModel",
            "_view_count": null,
            "_view_module": "@jupyter-widgets/base",
            "_view_module_version": "1.2.0",
            "_view_name": "LayoutView",
            "align_content": null,
            "align_items": null,
            "align_self": null,
            "border": null,
            "bottom": null,
            "display": null,
            "flex": null,
            "flex_flow": null,
            "grid_area": null,
            "grid_auto_columns": null,
            "grid_auto_flow": null,
            "grid_auto_rows": null,
            "grid_column": null,
            "grid_gap": null,
            "grid_row": null,
            "grid_template_areas": null,
            "grid_template_columns": null,
            "grid_template_rows": null,
            "height": null,
            "justify_content": null,
            "justify_items": null,
            "left": null,
            "margin": null,
            "max_height": null,
            "max_width": null,
            "min_height": null,
            "min_width": null,
            "object_fit": null,
            "object_position": null,
            "order": null,
            "overflow": null,
            "overflow_x": null,
            "overflow_y": null,
            "padding": null,
            "right": null,
            "top": null,
            "visibility": null,
            "width": null
          }
        },
        "29bb59549802403b9517a905fd0f3571": {
          "model_module": "@jupyter-widgets/controls",
          "model_name": "DescriptionStyleModel",
          "model_module_version": "1.5.0",
          "state": {
            "_model_module": "@jupyter-widgets/controls",
            "_model_module_version": "1.5.0",
            "_model_name": "DescriptionStyleModel",
            "_view_count": null,
            "_view_module": "@jupyter-widgets/base",
            "_view_module_version": "1.2.0",
            "_view_name": "StyleView",
            "description_width": ""
          }
        },
        "9fde0f05955443888421bcc395f9bcf2": {
          "model_module": "@jupyter-widgets/base",
          "model_name": "LayoutModel",
          "model_module_version": "1.2.0",
          "state": {
            "_model_module": "@jupyter-widgets/base",
            "_model_module_version": "1.2.0",
            "_model_name": "LayoutModel",
            "_view_count": null,
            "_view_module": "@jupyter-widgets/base",
            "_view_module_version": "1.2.0",
            "_view_name": "LayoutView",
            "align_content": null,
            "align_items": null,
            "align_self": null,
            "border": null,
            "bottom": null,
            "display": null,
            "flex": null,
            "flex_flow": null,
            "grid_area": null,
            "grid_auto_columns": null,
            "grid_auto_flow": null,
            "grid_auto_rows": null,
            "grid_column": null,
            "grid_gap": null,
            "grid_row": null,
            "grid_template_areas": null,
            "grid_template_columns": null,
            "grid_template_rows": null,
            "height": null,
            "justify_content": null,
            "justify_items": null,
            "left": null,
            "margin": null,
            "max_height": null,
            "max_width": null,
            "min_height": null,
            "min_width": null,
            "object_fit": null,
            "object_position": null,
            "order": null,
            "overflow": null,
            "overflow_x": null,
            "overflow_y": null,
            "padding": null,
            "right": null,
            "top": null,
            "visibility": null,
            "width": null
          }
        },
        "a7e901d9d8b14ff8b1bd82fc28bb9a72": {
          "model_module": "@jupyter-widgets/controls",
          "model_name": "ProgressStyleModel",
          "model_module_version": "1.5.0",
          "state": {
            "_model_module": "@jupyter-widgets/controls",
            "_model_module_version": "1.5.0",
            "_model_name": "ProgressStyleModel",
            "_view_count": null,
            "_view_module": "@jupyter-widgets/base",
            "_view_module_version": "1.2.0",
            "_view_name": "StyleView",
            "bar_color": null,
            "description_width": ""
          }
        },
        "cae3a3c3a7cd4b9d93768a8f5281d1e8": {
          "model_module": "@jupyter-widgets/base",
          "model_name": "LayoutModel",
          "model_module_version": "1.2.0",
          "state": {
            "_model_module": "@jupyter-widgets/base",
            "_model_module_version": "1.2.0",
            "_model_name": "LayoutModel",
            "_view_count": null,
            "_view_module": "@jupyter-widgets/base",
            "_view_module_version": "1.2.0",
            "_view_name": "LayoutView",
            "align_content": null,
            "align_items": null,
            "align_self": null,
            "border": null,
            "bottom": null,
            "display": null,
            "flex": null,
            "flex_flow": null,
            "grid_area": null,
            "grid_auto_columns": null,
            "grid_auto_flow": null,
            "grid_auto_rows": null,
            "grid_column": null,
            "grid_gap": null,
            "grid_row": null,
            "grid_template_areas": null,
            "grid_template_columns": null,
            "grid_template_rows": null,
            "height": null,
            "justify_content": null,
            "justify_items": null,
            "left": null,
            "margin": null,
            "max_height": null,
            "max_width": null,
            "min_height": null,
            "min_width": null,
            "object_fit": null,
            "object_position": null,
            "order": null,
            "overflow": null,
            "overflow_x": null,
            "overflow_y": null,
            "padding": null,
            "right": null,
            "top": null,
            "visibility": null,
            "width": null
          }
        },
        "1ff444ed8d144dc1ba8b172a4cf9e225": {
          "model_module": "@jupyter-widgets/controls",
          "model_name": "DescriptionStyleModel",
          "model_module_version": "1.5.0",
          "state": {
            "_model_module": "@jupyter-widgets/controls",
            "_model_module_version": "1.5.0",
            "_model_name": "DescriptionStyleModel",
            "_view_count": null,
            "_view_module": "@jupyter-widgets/base",
            "_view_module_version": "1.2.0",
            "_view_name": "StyleView",
            "description_width": ""
          }
        },
        "561dcc8d014c4d24b14ac2fa4203e3a9": {
          "model_module": "@jupyter-widgets/controls",
          "model_name": "HBoxModel",
          "model_module_version": "1.5.0",
          "state": {
            "_dom_classes": [],
            "_model_module": "@jupyter-widgets/controls",
            "_model_module_version": "1.5.0",
            "_model_name": "HBoxModel",
            "_view_count": null,
            "_view_module": "@jupyter-widgets/controls",
            "_view_module_version": "1.5.0",
            "_view_name": "HBoxView",
            "box_style": "",
            "children": [
              "IPY_MODEL_074cf8f7303a48f3a81dcfe8e37d521b",
              "IPY_MODEL_6b36e858bd3b4a3aafc547b4e282bf3a",
              "IPY_MODEL_2423cf7563fd44018377dc48312f16fb"
            ],
            "layout": "IPY_MODEL_828152d74b7944858c6f4395179771d9"
          }
        },
        "074cf8f7303a48f3a81dcfe8e37d521b": {
          "model_module": "@jupyter-widgets/controls",
          "model_name": "HTMLModel",
          "model_module_version": "1.5.0",
          "state": {
            "_dom_classes": [],
            "_model_module": "@jupyter-widgets/controls",
            "_model_module_version": "1.5.0",
            "_model_name": "HTMLModel",
            "_view_count": null,
            "_view_module": "@jupyter-widgets/controls",
            "_view_module_version": "1.5.0",
            "_view_name": "HTMLView",
            "description": "",
            "description_tooltip": null,
            "layout": "IPY_MODEL_8ef0819972e34506be7843df45bfc265",
            "placeholder": "​",
            "style": "IPY_MODEL_21544e22bb2042c58faf65e65b00c770",
            "value": "Downloading builder script: "
          }
        },
        "6b36e858bd3b4a3aafc547b4e282bf3a": {
          "model_module": "@jupyter-widgets/controls",
          "model_name": "FloatProgressModel",
          "model_module_version": "1.5.0",
          "state": {
            "_dom_classes": [],
            "_model_module": "@jupyter-widgets/controls",
            "_model_module_version": "1.5.0",
            "_model_name": "FloatProgressModel",
            "_view_count": null,
            "_view_module": "@jupyter-widgets/controls",
            "_view_module_version": "1.5.0",
            "_view_name": "ProgressView",
            "bar_style": "success",
            "description": "",
            "description_tooltip": null,
            "layout": "IPY_MODEL_50e3e8dba54c4fedafcd802d3b1a48d6",
            "max": 2318,
            "min": 0,
            "orientation": "horizontal",
            "style": "IPY_MODEL_673027feae214f91ba585cd2a9fed9bf",
            "value": 2318
          }
        },
        "2423cf7563fd44018377dc48312f16fb": {
          "model_module": "@jupyter-widgets/controls",
          "model_name": "HTMLModel",
          "model_module_version": "1.5.0",
          "state": {
            "_dom_classes": [],
            "_model_module": "@jupyter-widgets/controls",
            "_model_module_version": "1.5.0",
            "_model_name": "HTMLModel",
            "_view_count": null,
            "_view_module": "@jupyter-widgets/controls",
            "_view_module_version": "1.5.0",
            "_view_name": "HTMLView",
            "description": "",
            "description_tooltip": null,
            "layout": "IPY_MODEL_0abccaec5f0c4793bd0a1259183b8fd6",
            "placeholder": "​",
            "style": "IPY_MODEL_8b45023cff6f47748767a55a727acc5c",
            "value": " 6.50k/? [00:00&lt;00:00, 390kB/s]"
          }
        },
        "828152d74b7944858c6f4395179771d9": {
          "model_module": "@jupyter-widgets/base",
          "model_name": "LayoutModel",
          "model_module_version": "1.2.0",
          "state": {
            "_model_module": "@jupyter-widgets/base",
            "_model_module_version": "1.2.0",
            "_model_name": "LayoutModel",
            "_view_count": null,
            "_view_module": "@jupyter-widgets/base",
            "_view_module_version": "1.2.0",
            "_view_name": "LayoutView",
            "align_content": null,
            "align_items": null,
            "align_self": null,
            "border": null,
            "bottom": null,
            "display": null,
            "flex": null,
            "flex_flow": null,
            "grid_area": null,
            "grid_auto_columns": null,
            "grid_auto_flow": null,
            "grid_auto_rows": null,
            "grid_column": null,
            "grid_gap": null,
            "grid_row": null,
            "grid_template_areas": null,
            "grid_template_columns": null,
            "grid_template_rows": null,
            "height": null,
            "justify_content": null,
            "justify_items": null,
            "left": null,
            "margin": null,
            "max_height": null,
            "max_width": null,
            "min_height": null,
            "min_width": null,
            "object_fit": null,
            "object_position": null,
            "order": null,
            "overflow": null,
            "overflow_x": null,
            "overflow_y": null,
            "padding": null,
            "right": null,
            "top": null,
            "visibility": null,
            "width": null
          }
        },
        "8ef0819972e34506be7843df45bfc265": {
          "model_module": "@jupyter-widgets/base",
          "model_name": "LayoutModel",
          "model_module_version": "1.2.0",
          "state": {
            "_model_module": "@jupyter-widgets/base",
            "_model_module_version": "1.2.0",
            "_model_name": "LayoutModel",
            "_view_count": null,
            "_view_module": "@jupyter-widgets/base",
            "_view_module_version": "1.2.0",
            "_view_name": "LayoutView",
            "align_content": null,
            "align_items": null,
            "align_self": null,
            "border": null,
            "bottom": null,
            "display": null,
            "flex": null,
            "flex_flow": null,
            "grid_area": null,
            "grid_auto_columns": null,
            "grid_auto_flow": null,
            "grid_auto_rows": null,
            "grid_column": null,
            "grid_gap": null,
            "grid_row": null,
            "grid_template_areas": null,
            "grid_template_columns": null,
            "grid_template_rows": null,
            "height": null,
            "justify_content": null,
            "justify_items": null,
            "left": null,
            "margin": null,
            "max_height": null,
            "max_width": null,
            "min_height": null,
            "min_width": null,
            "object_fit": null,
            "object_position": null,
            "order": null,
            "overflow": null,
            "overflow_x": null,
            "overflow_y": null,
            "padding": null,
            "right": null,
            "top": null,
            "visibility": null,
            "width": null
          }
        },
        "21544e22bb2042c58faf65e65b00c770": {
          "model_module": "@jupyter-widgets/controls",
          "model_name": "DescriptionStyleModel",
          "model_module_version": "1.5.0",
          "state": {
            "_model_module": "@jupyter-widgets/controls",
            "_model_module_version": "1.5.0",
            "_model_name": "DescriptionStyleModel",
            "_view_count": null,
            "_view_module": "@jupyter-widgets/base",
            "_view_module_version": "1.2.0",
            "_view_name": "StyleView",
            "description_width": ""
          }
        },
        "50e3e8dba54c4fedafcd802d3b1a48d6": {
          "model_module": "@jupyter-widgets/base",
          "model_name": "LayoutModel",
          "model_module_version": "1.2.0",
          "state": {
            "_model_module": "@jupyter-widgets/base",
            "_model_module_version": "1.2.0",
            "_model_name": "LayoutModel",
            "_view_count": null,
            "_view_module": "@jupyter-widgets/base",
            "_view_module_version": "1.2.0",
            "_view_name": "LayoutView",
            "align_content": null,
            "align_items": null,
            "align_self": null,
            "border": null,
            "bottom": null,
            "display": null,
            "flex": null,
            "flex_flow": null,
            "grid_area": null,
            "grid_auto_columns": null,
            "grid_auto_flow": null,
            "grid_auto_rows": null,
            "grid_column": null,
            "grid_gap": null,
            "grid_row": null,
            "grid_template_areas": null,
            "grid_template_columns": null,
            "grid_template_rows": null,
            "height": null,
            "justify_content": null,
            "justify_items": null,
            "left": null,
            "margin": null,
            "max_height": null,
            "max_width": null,
            "min_height": null,
            "min_width": null,
            "object_fit": null,
            "object_position": null,
            "order": null,
            "overflow": null,
            "overflow_x": null,
            "overflow_y": null,
            "padding": null,
            "right": null,
            "top": null,
            "visibility": null,
            "width": null
          }
        },
        "673027feae214f91ba585cd2a9fed9bf": {
          "model_module": "@jupyter-widgets/controls",
          "model_name": "ProgressStyleModel",
          "model_module_version": "1.5.0",
          "state": {
            "_model_module": "@jupyter-widgets/controls",
            "_model_module_version": "1.5.0",
            "_model_name": "ProgressStyleModel",
            "_view_count": null,
            "_view_module": "@jupyter-widgets/base",
            "_view_module_version": "1.2.0",
            "_view_name": "StyleView",
            "bar_color": null,
            "description_width": ""
          }
        },
        "0abccaec5f0c4793bd0a1259183b8fd6": {
          "model_module": "@jupyter-widgets/base",
          "model_name": "LayoutModel",
          "model_module_version": "1.2.0",
          "state": {
            "_model_module": "@jupyter-widgets/base",
            "_model_module_version": "1.2.0",
            "_model_name": "LayoutModel",
            "_view_count": null,
            "_view_module": "@jupyter-widgets/base",
            "_view_module_version": "1.2.0",
            "_view_name": "LayoutView",
            "align_content": null,
            "align_items": null,
            "align_self": null,
            "border": null,
            "bottom": null,
            "display": null,
            "flex": null,
            "flex_flow": null,
            "grid_area": null,
            "grid_auto_columns": null,
            "grid_auto_flow": null,
            "grid_auto_rows": null,
            "grid_column": null,
            "grid_gap": null,
            "grid_row": null,
            "grid_template_areas": null,
            "grid_template_columns": null,
            "grid_template_rows": null,
            "height": null,
            "justify_content": null,
            "justify_items": null,
            "left": null,
            "margin": null,
            "max_height": null,
            "max_width": null,
            "min_height": null,
            "min_width": null,
            "object_fit": null,
            "object_position": null,
            "order": null,
            "overflow": null,
            "overflow_x": null,
            "overflow_y": null,
            "padding": null,
            "right": null,
            "top": null,
            "visibility": null,
            "width": null
          }
        },
        "8b45023cff6f47748767a55a727acc5c": {
          "model_module": "@jupyter-widgets/controls",
          "model_name": "DescriptionStyleModel",
          "model_module_version": "1.5.0",
          "state": {
            "_model_module": "@jupyter-widgets/controls",
            "_model_module_version": "1.5.0",
            "_model_name": "DescriptionStyleModel",
            "_view_count": null,
            "_view_module": "@jupyter-widgets/base",
            "_view_module_version": "1.2.0",
            "_view_name": "StyleView",
            "description_width": ""
          }
        }
      }
    },
    "accelerator": "GPU",
    "kaggle": {
      "accelerator": "nvidiaTeslaT4",
      "dataSources": [
        {
          "sourceId": 8217349,
          "sourceType": "datasetVersion",
          "datasetId": 4870771
        }
      ],
      "dockerImageVersionId": 30699,
      "isInternetEnabled": true,
      "language": "python",
      "sourceType": "notebook",
      "isGpuEnabled": true
    }
  },
  "nbformat_minor": 0,
  "nbformat": 4,
  "cells": [
    {
      "cell_type": "code",
      "source": [],
      "metadata": {
        "id": "buphRlAmxVjM",
        "execution": {
          "iopub.status.busy": "2024-04-24T15:13:44.085920Z",
          "iopub.execute_input": "2024-04-24T15:13:44.086596Z",
          "iopub.status.idle": "2024-04-24T15:13:44.102152Z",
          "shell.execute_reply.started": "2024-04-24T15:13:44.086566Z",
          "shell.execute_reply": "2024-04-24T15:13:44.101196Z"
        },
        "trusted": true
      },
      "execution_count": null,
      "outputs": []
    },
    {
      "cell_type": "code",
      "source": [
        "import os\n",
        "import pandas as pd\n",
        "import numpy as np\n",
        "import json\n",
        "import pathlib\n",
        "import random\n",
        "import zipfile\n",
        "\n",
        "import torch\n",
        "from torch.utils.data import TensorDataset, DataLoader, RandomSampler, SequentialSampler\n",
        "\n",
        "from transformers import BertTokenizer, BertConfig, AutoTokenizer\n",
        "from transformers.optimization import AdamW\n",
        "from transformers import RobertaForSequenceClassification\n",
        "\n",
        "from scipy.special import expit\n",
        "from keras.preprocessing.sequence import pad_sequences\n",
        "from sklearn import metrics"
      ],
      "metadata": {
        "id": "KvUnZ3p-ZRiw",
        "execution": {
          "iopub.status.busy": "2024-04-24T15:13:46.795097Z",
          "iopub.execute_input": "2024-04-24T15:13:46.795806Z",
          "iopub.status.idle": "2024-04-24T15:14:05.063783Z",
          "shell.execute_reply.started": "2024-04-24T15:13:46.795774Z",
          "shell.execute_reply": "2024-04-24T15:14:05.062294Z"
        },
        "trusted": true
      },
      "execution_count": 1,
      "outputs": []
    },
    {
      "cell_type": "code",
      "source": [
        "import warnings\n",
        "warnings.filterwarnings('ignore')\n",
        "warnings.simplefilter('ignore')"
      ],
      "metadata": {
        "id": "LXV1d3mUZRXC",
        "execution": {
          "iopub.status.busy": "2024-04-24T15:14:08.433828Z",
          "iopub.execute_input": "2024-04-24T15:14:08.434872Z",
          "iopub.status.idle": "2024-04-24T15:14:08.439334Z",
          "shell.execute_reply.started": "2024-04-24T15:14:08.434825Z",
          "shell.execute_reply": "2024-04-24T15:14:08.438197Z"
        },
        "trusted": true
      },
      "execution_count": 2,
      "outputs": []
    },
    {
      "cell_type": "code",
      "source": [
        "MAX_LEN = 512"
      ],
      "metadata": {
        "id": "9BUREsc6fBBh",
        "execution": {
          "iopub.status.busy": "2024-04-24T15:14:10.193970Z",
          "iopub.execute_input": "2024-04-24T15:14:10.194631Z",
          "iopub.status.idle": "2024-04-24T15:14:10.198651Z",
          "shell.execute_reply.started": "2024-04-24T15:14:10.194602Z",
          "shell.execute_reply": "2024-04-24T15:14:10.197605Z"
        },
        "trusted": true
      },
      "execution_count": 3,
      "outputs": []
    },
    {
      "cell_type": "code",
      "source": [
        "SEED = 128"
      ],
      "metadata": {
        "id": "bAHKOHqUfA-7"
      },
      "execution_count": 4,
      "outputs": []
    },
    {
      "cell_type": "code",
      "source": [
        "data_path = ''\n"
      ],
      "metadata": {
        "id": "NebvonK9fpYi",
        "execution": {
          "iopub.status.busy": "2024-04-24T15:14:12.413036Z",
          "iopub.execute_input": "2024-04-24T15:14:12.413490Z",
          "iopub.status.idle": "2024-04-24T15:14:12.417873Z",
          "shell.execute_reply.started": "2024-04-24T15:14:12.413458Z",
          "shell.execute_reply": "2024-04-24T15:14:12.416812Z"
        },
        "trusted": true
      },
      "execution_count": 5,
      "outputs": []
    },
    {
      "cell_type": "markdown",
      "source": [
        "склейка контекста и вопроса"
      ],
      "metadata": {
        "id": "wxfxdlUzbSMx"
      }
    },
    {
      "cell_type": "code",
      "source": [
        "import json\n",
        "t_sentences, t_labels = [], []\n",
        "with open(data_path + 'train.json', 'r') as f:\n",
        "  for line in f:\n",
        "    data = json.loads(line)\n",
        "    s1, s2 = data['context'], data['question']\n",
        "    t_sentences.append(s1 + ' ' + s2)\n",
        "    t_labels.append(1 if data['answer']=='да' else 0)\n",
        "\n"
      ],
      "metadata": {
        "id": "mFq80oTJmozy",
        "execution": {
          "iopub.status.busy": "2024-04-24T15:14:14.072623Z",
          "iopub.execute_input": "2024-04-24T15:14:14.073465Z",
          "iopub.status.idle": "2024-04-24T15:14:14.118734Z",
          "shell.execute_reply.started": "2024-04-24T15:14:14.073432Z",
          "shell.execute_reply": "2024-04-24T15:14:14.117771Z"
        },
        "trusted": true
      },
      "execution_count": 6,
      "outputs": []
    },
    {
      "cell_type": "code",
      "source": [
        "v_sentences, v_labels = [], []\n",
        "with open(data_path + 'dev.json', 'r') as f:\n",
        "  for line in f:\n",
        "    data = json.loads(line)\n",
        "    s1, s2 = data['context'], data['question']\n",
        "    v_sentences.append(s1 + ' ' + s2)\n",
        "    v_labels.append(1 if data['answer']=='да' else 0)\n"
      ],
      "metadata": {
        "id": "PdddJH9Dq_tG",
        "execution": {
          "iopub.status.busy": "2024-04-24T15:14:16.631422Z",
          "iopub.execute_input": "2024-04-24T15:14:16.631774Z",
          "iopub.status.idle": "2024-04-24T15:14:16.650522Z",
          "shell.execute_reply.started": "2024-04-24T15:14:16.631747Z",
          "shell.execute_reply": "2024-04-24T15:14:16.649757Z"
        },
        "trusted": true
      },
      "execution_count": 7,
      "outputs": []
    },
    {
      "cell_type": "markdown",
      "source": [
        "загрузка модели\n"
      ],
      "metadata": {
        "id": "nQCYyPYCbQBE"
      }
    },
    {
      "cell_type": "code",
      "source": [
        "device = torch.device(\"cuda\") if torch.cuda.is_available() else torch.device(\"cpu\")\n",
        "device"
      ],
      "metadata": {
        "colab": {
          "base_uri": "https://localhost:8080/"
        },
        "id": "jbiFI_Vkeuk2",
        "outputId": "0300769f-e936-48db-ad47-51a7396205d4",
        "execution": {
          "iopub.status.busy": "2024-04-24T15:14:19.075845Z",
          "iopub.execute_input": "2024-04-24T15:14:19.076689Z",
          "iopub.status.idle": "2024-04-24T15:14:19.129126Z",
          "shell.execute_reply.started": "2024-04-24T15:14:19.076659Z",
          "shell.execute_reply": "2024-04-24T15:14:19.128048Z"
        },
        "trusted": true
      },
      "execution_count": 8,
      "outputs": [
        {
          "output_type": "execute_result",
          "data": {
            "text/plain": [
              "device(type='cuda')"
            ]
          },
          "metadata": {},
          "execution_count": 8
        }
      ]
    },
    {
      "cell_type": "code",
      "source": [
        "tokenizer = AutoTokenizer.from_pretrained(\"alexyalunin/RuBioRoBERTa\",model_max_length=512)\n",
        "model = RobertaForSequenceClassification.from_pretrained('alexyalunin/RuBioRoBERTa').to(device)"
      ],
      "metadata": {
        "colab": {
          "base_uri": "https://localhost:8080/"
        },
        "id": "I9zcruVsgdnu",
        "outputId": "6c0063bc-7a72-4b5a-a7ca-250ade364297",
        "execution": {
          "iopub.status.busy": "2024-04-24T15:14:20.774907Z",
          "iopub.execute_input": "2024-04-24T15:14:20.775680Z",
          "iopub.status.idle": "2024-04-24T15:14:31.865499Z",
          "shell.execute_reply.started": "2024-04-24T15:14:20.775649Z",
          "shell.execute_reply": "2024-04-24T15:14:31.864294Z"
        },
        "trusted": true
      },
      "execution_count": 9,
      "outputs": [
        {
          "output_type": "stream",
          "name": "stderr",
          "text": [
            "Some weights of RobertaForSequenceClassification were not initialized from the model checkpoint at alexyalunin/RuBioRoBERTa and are newly initialized: ['classifier.dense.bias', 'classifier.dense.weight', 'classifier.out_proj.bias', 'classifier.out_proj.weight']\n",
            "You should probably TRAIN this model on a down-stream task to be able to use it for predictions and inference.\n"
          ]
        }
      ]
    },
    {
      "cell_type": "code",
      "source": [],
      "metadata": {
        "id": "dLjmY2OsVT_G"
      },
      "execution_count": 9,
      "outputs": []
    },
    {
      "cell_type": "code",
      "source": [
        "pip install datasets\n"
      ],
      "metadata": {
        "colab": {
          "base_uri": "https://localhost:8080/"
        },
        "id": "0aji6KJ5oVJM",
        "outputId": "cb159023-0394-480c-a845-739b4610c1d0",
        "execution": {
          "iopub.status.busy": "2024-04-24T15:14:34.876737Z",
          "iopub.execute_input": "2024-04-24T15:14:34.877084Z",
          "iopub.status.idle": "2024-04-24T15:14:48.364468Z",
          "shell.execute_reply.started": "2024-04-24T15:14:34.877041Z",
          "shell.execute_reply": "2024-04-24T15:14:48.363278Z"
        },
        "trusted": true
      },
      "execution_count": 10,
      "outputs": [
        {
          "output_type": "stream",
          "name": "stdout",
          "text": [
            "Requirement already satisfied: datasets in /usr/local/lib/python3.10/dist-packages (2.19.0)\n",
            "Requirement already satisfied: filelock in /usr/local/lib/python3.10/dist-packages (from datasets) (3.13.4)\n",
            "Requirement already satisfied: numpy>=1.17 in /usr/local/lib/python3.10/dist-packages (from datasets) (1.25.2)\n",
            "Requirement already satisfied: pyarrow>=12.0.0 in /usr/local/lib/python3.10/dist-packages (from datasets) (14.0.2)\n",
            "Requirement already satisfied: pyarrow-hotfix in /usr/local/lib/python3.10/dist-packages (from datasets) (0.6)\n",
            "Requirement already satisfied: dill<0.3.9,>=0.3.0 in /usr/local/lib/python3.10/dist-packages (from datasets) (0.3.8)\n",
            "Requirement already satisfied: pandas in /usr/local/lib/python3.10/dist-packages (from datasets) (2.0.3)\n",
            "Requirement already satisfied: requests>=2.19.0 in /usr/local/lib/python3.10/dist-packages (from datasets) (2.31.0)\n",
            "Requirement already satisfied: tqdm>=4.62.1 in /usr/local/lib/python3.10/dist-packages (from datasets) (4.66.2)\n",
            "Requirement already satisfied: xxhash in /usr/local/lib/python3.10/dist-packages (from datasets) (3.4.1)\n",
            "Requirement already satisfied: multiprocess in /usr/local/lib/python3.10/dist-packages (from datasets) (0.70.16)\n",
            "Requirement already satisfied: fsspec[http]<=2024.3.1,>=2023.1.0 in /usr/local/lib/python3.10/dist-packages (from datasets) (2023.6.0)\n",
            "Requirement already satisfied: aiohttp in /usr/local/lib/python3.10/dist-packages (from datasets) (3.9.5)\n",
            "Requirement already satisfied: huggingface-hub>=0.21.2 in /usr/local/lib/python3.10/dist-packages (from datasets) (0.22.2)\n",
            "Requirement already satisfied: packaging in /usr/local/lib/python3.10/dist-packages (from datasets) (24.0)\n",
            "Requirement already satisfied: pyyaml>=5.1 in /usr/local/lib/python3.10/dist-packages (from datasets) (6.0.1)\n",
            "Requirement already satisfied: aiosignal>=1.1.2 in /usr/local/lib/python3.10/dist-packages (from aiohttp->datasets) (1.3.1)\n",
            "Requirement already satisfied: attrs>=17.3.0 in /usr/local/lib/python3.10/dist-packages (from aiohttp->datasets) (23.2.0)\n",
            "Requirement already satisfied: frozenlist>=1.1.1 in /usr/local/lib/python3.10/dist-packages (from aiohttp->datasets) (1.4.1)\n",
            "Requirement already satisfied: multidict<7.0,>=4.5 in /usr/local/lib/python3.10/dist-packages (from aiohttp->datasets) (6.0.5)\n",
            "Requirement already satisfied: yarl<2.0,>=1.0 in /usr/local/lib/python3.10/dist-packages (from aiohttp->datasets) (1.9.4)\n",
            "Requirement already satisfied: async-timeout<5.0,>=4.0 in /usr/local/lib/python3.10/dist-packages (from aiohttp->datasets) (4.0.3)\n",
            "Requirement already satisfied: typing-extensions>=3.7.4.3 in /usr/local/lib/python3.10/dist-packages (from huggingface-hub>=0.21.2->datasets) (4.11.0)\n",
            "Requirement already satisfied: charset-normalizer<4,>=2 in /usr/local/lib/python3.10/dist-packages (from requests>=2.19.0->datasets) (3.3.2)\n",
            "Requirement already satisfied: idna<4,>=2.5 in /usr/local/lib/python3.10/dist-packages (from requests>=2.19.0->datasets) (3.7)\n",
            "Requirement already satisfied: urllib3<3,>=1.21.1 in /usr/local/lib/python3.10/dist-packages (from requests>=2.19.0->datasets) (2.0.7)\n",
            "Requirement already satisfied: certifi>=2017.4.17 in /usr/local/lib/python3.10/dist-packages (from requests>=2.19.0->datasets) (2024.2.2)\n",
            "Requirement already satisfied: python-dateutil>=2.8.2 in /usr/local/lib/python3.10/dist-packages (from pandas->datasets) (2.8.2)\n",
            "Requirement already satisfied: pytz>=2020.1 in /usr/local/lib/python3.10/dist-packages (from pandas->datasets) (2023.4)\n",
            "Requirement already satisfied: tzdata>=2022.1 in /usr/local/lib/python3.10/dist-packages (from pandas->datasets) (2024.1)\n",
            "Requirement already satisfied: six>=1.5 in /usr/local/lib/python3.10/dist-packages (from python-dateutil>=2.8.2->pandas->datasets) (1.16.0)\n"
          ]
        }
      ]
    },
    {
      "cell_type": "code",
      "source": [
        "from datasets import DatasetDict\n",
        "from datasets import Dataset\n",
        "train = Dataset.from_dict({\n",
        "        'text': t_sentences,\n",
        "        'labels': t_labels\n",
        "    })\n",
        "test = Dataset.from_dict({\n",
        "        'text': v_sentences,\n",
        "        'labels': v_labels\n",
        "    })\n",
        "dataset_dict = DatasetDict({\n",
        "    'train': train,\n",
        "    'test': test\n",
        "})\n"
      ],
      "metadata": {
        "id": "SyXw1eE6gXZd",
        "execution": {
          "iopub.status.busy": "2024-04-24T15:14:48.366906Z",
          "iopub.execute_input": "2024-04-24T15:14:48.367320Z",
          "iopub.status.idle": "2024-04-24T15:14:49.016460Z",
          "shell.execute_reply.started": "2024-04-24T15:14:48.367281Z",
          "shell.execute_reply": "2024-04-24T15:14:49.015687Z"
        },
        "trusted": true
      },
      "execution_count": 11,
      "outputs": []
    },
    {
      "cell_type": "code",
      "source": [
        "dataset_dict"
      ],
      "metadata": {
        "colab": {
          "base_uri": "https://localhost:8080/"
        },
        "id": "f0N9pAYctJk_",
        "outputId": "6c91e284-aa5a-4904-a84e-4524fff5e64a",
        "execution": {
          "iopub.status.busy": "2024-04-24T15:14:52.107171Z",
          "iopub.execute_input": "2024-04-24T15:14:52.107574Z",
          "iopub.status.idle": "2024-04-24T15:14:52.113893Z",
          "shell.execute_reply.started": "2024-04-24T15:14:52.107545Z",
          "shell.execute_reply": "2024-04-24T15:14:52.112897Z"
        },
        "trusted": true
      },
      "execution_count": 12,
      "outputs": [
        {
          "output_type": "execute_result",
          "data": {
            "text/plain": [
              "DatasetDict({\n",
              "    train: Dataset({\n",
              "        features: ['text', 'labels'],\n",
              "        num_rows: 1308\n",
              "    })\n",
              "    test: Dataset({\n",
              "        features: ['text', 'labels'],\n",
              "        num_rows: 256\n",
              "    })\n",
              "})"
            ]
          },
          "metadata": {},
          "execution_count": 12
        }
      ]
    },
    {
      "cell_type": "markdown",
      "source": [
        "приведеение данных к приемлемому для модели виду (токенизация текстов, исключение столбца текстов, разбитие на батчи)"
      ],
      "metadata": {
        "id": "P0aF3CIQcJXs"
      }
    },
    {
      "cell_type": "code",
      "source": [
        "from transformers import DataCollatorWithPadding\n",
        "\n",
        "def tokenize_function(example):\n",
        "    return tokenizer(example[\"text\"], truncation=True, padding = True\n",
        ")\n",
        "\n",
        "\n",
        "tokenized_datasets = dataset_dict.map(tokenize_function, batched=True)\n",
        "data_collator = DataCollatorWithPadding(tokenizer=tokenizer)\n"
      ],
      "metadata": {
        "colab": {
          "base_uri": "https://localhost:8080/",
          "height": 81,
          "referenced_widgets": [
            "ed58776e7a0746a4bfa7aaac2b640aeb",
            "3965d3770497430b9fcaf713dada7b3a",
            "ad88439212b24fed9aa0186cdf449b52",
            "82e46bb8450d4ab5aa92fc96105b2fe0",
            "16a27d93c07a45a28604a59267252691",
            "94774c2460984a5f8883fb2f58379171",
            "2fafd00b3738463789a207f72480bf5c",
            "32a40797372d46f4bbbb212da283a7c8",
            "2cb940f32e7c413f8267f0f0f02d717a",
            "95e70e069bb44480a84e4955235926e5",
            "c925cc2fc5134b618d411c0a646ae8f4",
            "3a57287bb2a04b85b7cad58a7874bd84",
            "39864a14b4194d4db4c5bb9baded5429",
            "973ad4706bd14fb28e43a38a6f585c82",
            "6d5bcf0e8da944e1a4116d5266ae4564",
            "3e3a7ecbd8f44772a30e99539e59f53b",
            "fe5ee9c20f5d4aa5a5d085fe82982e37",
            "13c133fe055840a4aa51473e6e44601f",
            "181e5bed038a474abe72b84fa0676a9b",
            "158b1119eb104a559a8fdbc5b51a3fee",
            "e4f3f3ab4a734fcab7e745f3423d7e94",
            "ddbe37bd689a4b9ab5a12288cf6e0831"
          ]
        },
        "id": "BbulnjHBuGpa",
        "outputId": "d18f2f73-2f26-4c67-deb4-ea0241603e7d",
        "execution": {
          "iopub.status.busy": "2024-04-24T15:14:53.948334Z",
          "iopub.execute_input": "2024-04-24T15:14:53.948720Z",
          "iopub.status.idle": "2024-04-24T15:14:54.590773Z",
          "shell.execute_reply.started": "2024-04-24T15:14:53.948691Z",
          "shell.execute_reply": "2024-04-24T15:14:54.589844Z"
        },
        "trusted": true
      },
      "execution_count": 13,
      "outputs": [
        {
          "output_type": "display_data",
          "data": {
            "text/plain": [
              "Map:   0%|          | 0/1308 [00:00<?, ? examples/s]"
            ],
            "application/vnd.jupyter.widget-view+json": {
              "version_major": 2,
              "version_minor": 0,
              "model_id": "ed58776e7a0746a4bfa7aaac2b640aeb"
            }
          },
          "metadata": {}
        },
        {
          "output_type": "display_data",
          "data": {
            "text/plain": [
              "Map:   0%|          | 0/256 [00:00<?, ? examples/s]"
            ],
            "application/vnd.jupyter.widget-view+json": {
              "version_major": 2,
              "version_minor": 0,
              "model_id": "3a57287bb2a04b85b7cad58a7874bd84"
            }
          },
          "metadata": {}
        }
      ]
    },
    {
      "cell_type": "code",
      "source": [
        "tokenized_datasets = tokenized_datasets.remove_columns(['text'])\n"
      ],
      "metadata": {
        "id": "twnwtVrNvYSQ",
        "execution": {
          "iopub.status.busy": "2024-04-24T15:14:57.516814Z",
          "iopub.execute_input": "2024-04-24T15:14:57.517781Z",
          "iopub.status.idle": "2024-04-24T15:14:57.525434Z",
          "shell.execute_reply.started": "2024-04-24T15:14:57.517747Z",
          "shell.execute_reply": "2024-04-24T15:14:57.524448Z"
        },
        "trusted": true
      },
      "execution_count": 14,
      "outputs": []
    },
    {
      "cell_type": "code",
      "source": [
        "max(len(i) for i in tokenized_datasets['test']['input_ids'])"
      ],
      "metadata": {
        "colab": {
          "base_uri": "https://localhost:8080/"
        },
        "id": "_N-gQGnSuGm1",
        "outputId": "d3bbbd38-9282-48cd-eba3-376cef7d5d56",
        "execution": {
          "iopub.status.busy": "2024-04-24T15:14:59.168656Z",
          "iopub.execute_input": "2024-04-24T15:14:59.169063Z",
          "iopub.status.idle": "2024-04-24T15:14:59.197874Z",
          "shell.execute_reply.started": "2024-04-24T15:14:59.169035Z",
          "shell.execute_reply": "2024-04-24T15:14:59.196943Z"
        },
        "trusted": true
      },
      "execution_count": 15,
      "outputs": [
        {
          "output_type": "execute_result",
          "data": {
            "text/plain": [
              "269"
            ]
          },
          "metadata": {},
          "execution_count": 15
        }
      ]
    },
    {
      "cell_type": "code",
      "source": [
        "from torch.utils.data import DataLoader\n",
        "tokenized_datasets.set_format(\"torch\")\n",
        "\n",
        "train_dataloader = DataLoader(\n",
        "    tokenized_datasets[\"train\"], shuffle=True, batch_size=4, collate_fn=data_collator\n",
        ")\n",
        "eval_dataloader = DataLoader(\n",
        "    tokenized_datasets[\"test\"], batch_size=4, collate_fn=data_collator\n",
        ")"
      ],
      "metadata": {
        "id": "BUg7AqocuGkQ",
        "execution": {
          "iopub.status.busy": "2024-04-24T15:15:04.051384Z",
          "iopub.execute_input": "2024-04-24T15:15:04.051739Z",
          "iopub.status.idle": "2024-04-24T15:15:04.058927Z",
          "shell.execute_reply.started": "2024-04-24T15:15:04.051710Z",
          "shell.execute_reply": "2024-04-24T15:15:04.057999Z"
        },
        "trusted": true
      },
      "execution_count": 16,
      "outputs": []
    },
    {
      "cell_type": "code",
      "source": [],
      "metadata": {
        "id": "nJoxAar8vDTQ"
      },
      "execution_count": 16,
      "outputs": []
    },
    {
      "cell_type": "code",
      "source": [
        "for batch in train_dataloader:\n",
        "    break\n",
        "{k: v.shape for k, v in batch.items()}"
      ],
      "metadata": {
        "colab": {
          "base_uri": "https://localhost:8080/"
        },
        "id": "yvAe5IfGu2qf",
        "outputId": "b5ff4f77-8170-4c9c-fed2-ca0f1fd026d0",
        "execution": {
          "iopub.status.busy": "2024-04-24T15:15:07.055905Z",
          "iopub.execute_input": "2024-04-24T15:15:07.056465Z",
          "iopub.status.idle": "2024-04-24T15:15:07.076574Z",
          "shell.execute_reply.started": "2024-04-24T15:15:07.056436Z",
          "shell.execute_reply": "2024-04-24T15:15:07.075681Z"
        },
        "trusted": true
      },
      "execution_count": 17,
      "outputs": [
        {
          "output_type": "execute_result",
          "data": {
            "text/plain": [
              "{'labels': torch.Size([4]),\n",
              " 'input_ids': torch.Size([4, 512]),\n",
              " 'attention_mask': torch.Size([4, 512])}"
            ]
          },
          "metadata": {},
          "execution_count": 17
        }
      ]
    },
    {
      "cell_type": "code",
      "source": [],
      "metadata": {
        "id": "hutb3tOWvoWX"
      },
      "execution_count": 17,
      "outputs": []
    },
    {
      "cell_type": "code",
      "source": [
        "outputs = model(**batch.to(device))\n",
        "print(outputs.loss, outputs.logits.shape)"
      ],
      "metadata": {
        "colab": {
          "base_uri": "https://localhost:8080/"
        },
        "id": "TWkPk0aivi7A",
        "outputId": "509f2299-301e-4a66-95e5-facaee0dda55",
        "execution": {
          "iopub.status.busy": "2024-04-24T15:15:08.953034Z",
          "iopub.execute_input": "2024-04-24T15:15:08.953937Z",
          "iopub.status.idle": "2024-04-24T15:15:09.938950Z",
          "shell.execute_reply.started": "2024-04-24T15:15:08.953903Z",
          "shell.execute_reply": "2024-04-24T15:15:09.938005Z"
        },
        "trusted": true
      },
      "execution_count": 18,
      "outputs": [
        {
          "output_type": "stream",
          "name": "stdout",
          "text": [
            "tensor(0.6530, device='cuda:0', grad_fn=<NllLossBackward0>) torch.Size([4, 2])\n"
          ]
        }
      ]
    },
    {
      "cell_type": "markdown",
      "source": [
        "выбор оптимизатора и определение затухания скорости обучения\n"
      ],
      "metadata": {
        "id": "KpBEDQ-ZcV9s"
      }
    },
    {
      "cell_type": "code",
      "source": [
        "from transformers import AdamW\n",
        "\n",
        "optimizer = AdamW(model.parameters(), lr=0.0005)"
      ],
      "metadata": {
        "id": "o1CPgScTvw9a",
        "execution": {
          "iopub.status.busy": "2024-04-24T15:15:11.767105Z",
          "iopub.execute_input": "2024-04-24T15:15:11.767948Z",
          "iopub.status.idle": "2024-04-24T15:15:11.777630Z",
          "shell.execute_reply.started": "2024-04-24T15:15:11.767917Z",
          "shell.execute_reply": "2024-04-24T15:15:11.776590Z"
        },
        "trusted": true
      },
      "execution_count": 19,
      "outputs": []
    },
    {
      "cell_type": "code",
      "source": [
        "from transformers import get_scheduler\n",
        "\n",
        "num_epochs = 3\n",
        "num_training_steps = num_epochs * len(train_dataloader)\n",
        "lr_scheduler = get_scheduler(\n",
        "    \"linear\",\n",
        "    optimizer=optimizer,\n",
        "    num_warmup_steps=0,\n",
        "    num_training_steps=num_training_steps,\n",
        ")\n",
        "print(num_training_steps)"
      ],
      "metadata": {
        "colab": {
          "base_uri": "https://localhost:8080/"
        },
        "id": "yGSUR-Ufvw6Q",
        "outputId": "ac8247b6-a418-4cba-87c3-b37c497c41c6",
        "execution": {
          "iopub.status.busy": "2024-04-24T15:15:13.172993Z",
          "iopub.execute_input": "2024-04-24T15:15:13.173523Z",
          "iopub.status.idle": "2024-04-24T15:15:13.179275Z",
          "shell.execute_reply.started": "2024-04-24T15:15:13.173489Z",
          "shell.execute_reply": "2024-04-24T15:15:13.178231Z"
        },
        "trusted": true
      },
      "execution_count": 20,
      "outputs": [
        {
          "output_type": "stream",
          "name": "stdout",
          "text": [
            "981\n"
          ]
        }
      ]
    },
    {
      "cell_type": "code",
      "source": [
        "torch.cuda.memory_summary(device=None, abbreviated=False)\n"
      ],
      "metadata": {
        "colab": {
          "base_uri": "https://localhost:8080/",
          "height": 157
        },
        "id": "qrgX_VBajgTt",
        "outputId": "7278936c-1fa4-431b-ee57-6c96b7e65f36",
        "execution": {
          "iopub.status.busy": "2024-04-24T15:15:16.650215Z",
          "iopub.execute_input": "2024-04-24T15:15:16.650913Z",
          "iopub.status.idle": "2024-04-24T15:15:16.657940Z",
          "shell.execute_reply.started": "2024-04-24T15:15:16.650872Z",
          "shell.execute_reply": "2024-04-24T15:15:16.657045Z"
        },
        "trusted": true
      },
      "execution_count": 21,
      "outputs": [
        {
          "output_type": "execute_result",
          "data": {
            "text/plain": [
              "'|===========================================================================|\\n|                  PyTorch CUDA memory summary, device ID 0                 |\\n|---------------------------------------------------------------------------|\\n|            CUDA OOMs: 0            |        cudaMalloc retries: 0         |\\n|===========================================================================|\\n|        Metric         | Cur Usage  | Peak Usage | Tot Alloc  | Tot Freed  |\\n|---------------------------------------------------------------------------|\\n| Allocated memory      |   5988 MiB |   5996 MiB |  11918 MiB |   5930 MiB |\\n|       from large pool |   5986 MiB |   5994 MiB |  11770 MiB |   5784 MiB |\\n|       from small pool |      2 MiB |      3 MiB |    148 MiB |    146 MiB |\\n|---------------------------------------------------------------------------|\\n| Active memory         |   5988 MiB |   5996 MiB |  11918 MiB |   5930 MiB |\\n|       from large pool |   5986 MiB |   5994 MiB |  11770 MiB |   5784 MiB |\\n|       from small pool |      2 MiB |      3 MiB |    148 MiB |    146 MiB |\\n|---------------------------------------------------------------------------|\\n| Requested memory      |   5988 MiB |   5996 MiB |  11918 MiB |   5930 MiB |\\n|       from large pool |   5986 MiB |   5994 MiB |  11770 MiB |   5784 MiB |\\n|       from small pool |      2 MiB |      3 MiB |    148 MiB |    146 MiB |\\n|---------------------------------------------------------------------------|\\n| GPU reserved memory   |   6402 MiB |   6402 MiB |   6402 MiB |      0 B   |\\n|       from large pool |   6398 MiB |   6398 MiB |   6398 MiB |      0 B   |\\n|       from small pool |      4 MiB |      4 MiB |      4 MiB |      0 B   |\\n|---------------------------------------------------------------------------|\\n| Non-releasable memory | 423360 KiB | 452058 KiB |   3657 MiB |   3244 MiB |\\n|       from large pool | 421396 KiB | 450068 KiB |   3507 MiB |   3096 MiB |\\n|       from small pool |   1964 KiB |   2046 KiB |    150 MiB |    148 MiB |\\n|---------------------------------------------------------------------------|\\n| Allocations           |     769    |     775    |    1168    |     399    |\\n|       from large pool |     414    |     415    |     633    |     219    |\\n|       from small pool |     355    |     361    |     535    |     180    |\\n|---------------------------------------------------------------------------|\\n| Active allocs         |     769    |     775    |    1168    |     399    |\\n|       from large pool |     414    |     415    |     633    |     219    |\\n|       from small pool |     355    |     361    |     535    |     180    |\\n|---------------------------------------------------------------------------|\\n| GPU reserved segments |     216    |     216    |     216    |       0    |\\n|       from large pool |     214    |     214    |     214    |       0    |\\n|       from small pool |       2    |       2    |       2    |       0    |\\n|---------------------------------------------------------------------------|\\n| Non-releasable allocs |     105    |     107    |     422    |     317    |\\n|       from large pool |     101    |     102    |     271    |     170    |\\n|       from small pool |       4    |       6    |     151    |     147    |\\n|---------------------------------------------------------------------------|\\n| Oversize allocations  |       0    |       0    |       0    |       0    |\\n|---------------------------------------------------------------------------|\\n| Oversize GPU segments |       0    |       0    |       0    |       0    |\\n|===========================================================================|\\n'"
            ],
            "application/vnd.google.colaboratory.intrinsic+json": {
              "type": "string"
            }
          },
          "metadata": {},
          "execution_count": 21
        }
      ]
    },
    {
      "cell_type": "markdown",
      "source": [
        "тренировка"
      ],
      "metadata": {
        "id": "fsEojaCbcXci"
      }
    },
    {
      "cell_type": "code",
      "source": [
        "from tqdm.auto import tqdm\n",
        "\n",
        "progress_bar = tqdm(range(num_training_steps))\n",
        "\n",
        "model.train()\n",
        "for epoch in range(num_epochs):\n",
        "    for batch in train_dataloader:\n",
        "        batch = {k: v.to(device) for k, v in batch.items()}\n",
        "        outputs = model(**batch)\n",
        "        loss = outputs.loss\n",
        "        loss.backward()\n",
        "\n",
        "        optimizer.step()\n",
        "        lr_scheduler.step()\n",
        "        optimizer.zero_grad()\n",
        "\n",
        "        progress_bar.update(1)"
      ],
      "metadata": {
        "colab": {
          "base_uri": "https://localhost:8080/",
          "height": 49,
          "referenced_widgets": [
            "938ec760df14402b941c28d0d25f83f2",
            "867c4c2f9e974d83a722a8eb8b9aaa44",
            "d104866311cd47c498fab3f9be550f22",
            "d3af7326fa9a478381e93c9f793b2c5c",
            "f1eeb9e7bc3a4a6a81461b9cda2f4a95",
            "304d1fff133747e782e7cf52677abd46",
            "29bb59549802403b9517a905fd0f3571",
            "9fde0f05955443888421bcc395f9bcf2",
            "a7e901d9d8b14ff8b1bd82fc28bb9a72",
            "cae3a3c3a7cd4b9d93768a8f5281d1e8",
            "1ff444ed8d144dc1ba8b172a4cf9e225"
          ]
        },
        "id": "0md-ux8-wBBi",
        "outputId": "830fba0d-416b-4f8f-dc65-8ef6c28f62cd",
        "execution": {
          "iopub.status.busy": "2024-04-24T15:15:20.574975Z",
          "iopub.execute_input": "2024-04-24T15:15:20.575339Z",
          "iopub.status.idle": "2024-04-24T15:23:58.991404Z",
          "shell.execute_reply.started": "2024-04-24T15:15:20.575312Z",
          "shell.execute_reply": "2024-04-24T15:23:58.990440Z"
        },
        "trusted": true
      },
      "execution_count": 22,
      "outputs": [
        {
          "output_type": "display_data",
          "data": {
            "text/plain": [
              "  0%|          | 0/981 [00:00<?, ?it/s]"
            ],
            "application/vnd.jupyter.widget-view+json": {
              "version_major": 2,
              "version_minor": 0,
              "model_id": "938ec760df14402b941c28d0d25f83f2"
            }
          },
          "metadata": {}
        }
      ]
    },
    {
      "cell_type": "markdown",
      "source": [
        "валидация\n",
        "F1= (precision+recall)/(2⋅precision⋅recall)\n",
        "Где:\n",
        "Precision (точность) — это отношение количества истинно положительных результатов к общему количеству положительных результатов, предсказанных моделью.\n",
        "Recall (полнота) — это отношение количества истинно положительных результатов к общему количеству истинно положительных результатов в данных."
      ],
      "metadata": {
        "id": "8OF-z1Z8cY8I"
      }
    },
    {
      "cell_type": "code",
      "source": [
        "from datasets import load_metric\n",
        "\n",
        "metric = load_metric(\"f1\")\n",
        "model.eval()\n",
        "for batch in eval_dataloader:\n",
        "    batch = {k: v.to(device) for k, v in batch.items()}\n",
        "    with torch.no_grad():\n",
        "        outputs = model(**batch)\n",
        "\n",
        "    logits = outputs.logits\n",
        "    predictions = torch.argmax(logits, dim=-1)\n",
        "    metric.add_batch(predictions=predictions, references=batch[\"labels\"])\n",
        "\n",
        "metric.compute()"
      ],
      "metadata": {
        "id": "GJ3F6LR9wdpA",
        "execution": {
          "iopub.status.busy": "2024-04-24T15:24:16.965370Z",
          "iopub.execute_input": "2024-04-24T15:24:16.965733Z",
          "iopub.status.idle": "2024-04-24T15:24:26.743138Z",
          "shell.execute_reply.started": "2024-04-24T15:24:16.965706Z",
          "shell.execute_reply": "2024-04-24T15:24:26.742147Z"
        },
        "trusted": true,
        "colab": {
          "base_uri": "https://localhost:8080/",
          "height": 66,
          "referenced_widgets": [
            "561dcc8d014c4d24b14ac2fa4203e3a9",
            "074cf8f7303a48f3a81dcfe8e37d521b",
            "6b36e858bd3b4a3aafc547b4e282bf3a",
            "2423cf7563fd44018377dc48312f16fb",
            "828152d74b7944858c6f4395179771d9",
            "8ef0819972e34506be7843df45bfc265",
            "21544e22bb2042c58faf65e65b00c770",
            "50e3e8dba54c4fedafcd802d3b1a48d6",
            "673027feae214f91ba585cd2a9fed9bf",
            "0abccaec5f0c4793bd0a1259183b8fd6",
            "8b45023cff6f47748767a55a727acc5c"
          ]
        },
        "outputId": "6757aa17-9feb-4627-8303-7fa620a60081"
      },
      "execution_count": 23,
      "outputs": [
        {
          "output_type": "display_data",
          "data": {
            "text/plain": [
              "Downloading builder script:   0%|          | 0.00/2.32k [00:00<?, ?B/s]"
            ],
            "application/vnd.jupyter.widget-view+json": {
              "version_major": 2,
              "version_minor": 0,
              "model_id": "561dcc8d014c4d24b14ac2fa4203e3a9"
            }
          },
          "metadata": {}
        },
        {
          "output_type": "execute_result",
          "data": {
            "text/plain": [
              "{'f1': 0.6666666666666666}"
            ]
          },
          "metadata": {},
          "execution_count": 23
        }
      ]
    },
    {
      "cell_type": "code",
      "source": [
        "torch.save(model.state_dict(), 'fine_tuned_model5e-4.pth')\n"
      ],
      "metadata": {
        "execution": {
          "iopub.status.busy": "2024-04-24T15:25:41.141751Z",
          "iopub.execute_input": "2024-04-24T15:25:41.142667Z",
          "iopub.status.idle": "2024-04-24T15:25:43.595685Z",
          "shell.execute_reply.started": "2024-04-24T15:25:41.142636Z",
          "shell.execute_reply": "2024-04-24T15:25:43.594646Z"
        },
        "trusted": true,
        "id": "wC0GF6tYVT_L"
      },
      "execution_count": 24,
      "outputs": []
    }
  ]
}